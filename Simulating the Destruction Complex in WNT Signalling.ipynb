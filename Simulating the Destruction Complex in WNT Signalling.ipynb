{
 "cells": [
  {
   "cell_type": "markdown",
   "metadata": {},
   "source": [
    "### Program Information\n",
    "The program is based of the Cahn-Hilliard program found here: https://fenicsproject.org/olddocs/dolfin/1.4.0/python/demo/documented/cahn-hilliard/python/documentation.html\n",
    "\n",
    "### Program Setup\n",
    "#### Dependencies\n",
    "1. Docker\n",
    "2. Paraview\n",
    "3. Relevant Python Packages\n",
    "\n",
    "#### To Run Program:\n",
    "1. Install Docker\n",
    "2. In Powershell, run 'docker run --name (Name of Desired Container) -w /home/fenics -v (Desired Directory):/home/fenics/shared -d -p 127.0.0.1:8888:8888 quay.io/fenicsproject/stable 'jupyter-notebook --ip=0.0.0.0' NOTE: Desired Directory needs to be in the format of i.e C:\\Users\\MZW-lab\\\n",
    "3. Run Jupyter notebook\n",
    "4. Upon program completion, navigate to directory path of result output.\n",
    "5. Open Paraview\n",
    "6. Drag and drop .pvd files into Paraview (One at a time)\n",
    "7. Click Apply, and then the Play button\n",
    "8. For Data Analysis, select Filters >  Data Analysis > Plot Over Time"
   ]
  },
  {
   "cell_type": "code",
   "execution_count": 1,
   "metadata": {},
   "outputs": [],
   "source": [
    "from dolfin import *\n",
    "from fenics import *\n",
    "from IPython.lib.display import Audio\n",
    "from IPython.display import clear_output\n",
    "from mshr import *\n",
    "from scipy import fft\n",
    "import mshr\n",
    "import math\n",
    "import numpy as np\n",
    "import matplotlib.pyplot as plt\n",
    "import random\n",
    "framerate = 4410\n",
    "play_time_seconds = 1"
   ]
  },
  {
   "cell_type": "markdown",
   "metadata": {},
   "source": [
    "### Generating Subdomain\n",
    "\n",
    "This creates the circle that will be the nucleator of the cell"
   ]
  },
  {
   "cell_type": "code",
   "execution_count": 2,
   "metadata": {},
   "outputs": [],
   "source": [
    "class Circle(SubDomain):\n",
    "    def inside(self, x, on_boundary):\n",
    "        return pow(x[0] - .5, 2) + pow(x[1] - .5, 2) <= pow(radius, 2)"
   ]
  },
  {
   "cell_type": "markdown",
   "metadata": {},
   "source": [
    "### Generating Mesh\n",
    "\n",
    "A 16 dimensional FunctionSpace is too computational heavy to be realized. A Vector Function Space was used instead to speed up the process. To further mimic the biophysical space of the cell, a closed boundary condition was used."
   ]
  },
  {
   "cell_type": "code",
   "execution_count": 3,
   "metadata": {},
   "outputs": [
    {
     "data": {
      "image/png": "[encoded data removed]",
      "text/plain": [
       "<Figure size 432x288 with 1 Axes>"
      ]
     },
     "metadata": {
      "needs_background": "light"
     },
     "output_type": "display_data"
    }
   ],
   "source": [
    "radius = 0.005 \n",
    "domain = Rectangle(Point(0.0, 0.0), Point(1., 1.))\n",
    "domain.set_subdomain(1, mshr.Circle(Point(.5, .5), radius))\n",
    "mesh = generate_mesh(domain, 64)\n",
    "plot(mesh)\n",
    "A = VectorFunctionSpace(mesh, 'Lagrange', 1, dim = 14)\n",
    "circle = Circle()"
   ]
  },
  {
   "cell_type": "markdown",
   "metadata": {},
   "source": [
    "## Splitting the Function Space\n",
    "\n",
    "We split the function space into individual solvable parts, with each representing a different protein and the previous and next time steps"
   ]
  },
  {
   "cell_type": "code",
   "execution_count": 4,
   "metadata": {},
   "outputs": [],
   "source": [
    "# Define functions\n",
    "u_new = Function(A)  # solution for the next step\n",
    "u_old  = Function(A)  # solution from previous step\n",
    "u_new.rename(\"fields\",\"\")\n",
    "\n",
    "# Split mixed functions for the concentration percentages and chemical potential for current and previous states\n",
    "(c1_new, c2_new, c3_new, c4_new, c5_new, c6_new, c7_new,\n",
    "mu1_new , mu2_new , mu3_new, mu4_new, mu5_new, mu6_new, mu7_new) = split(u_new)\n",
    "(c1_old, c2_old, c3_old, c4_old, c5_old, c6_old, c7_old, \n",
    "mu1_old , mu2_old , mu3_old, mu4_old, mu5_old, mu6_old, mu7_old) = split(u_old)\n",
    "\n",
    "# Define test functions\n",
    "tf = TestFunction(A)\n",
    "q_1, q_2, q_3, q_4, q_5, q_6, q_7, v_1, v_2, v_3, v_4, v_5, v_6, v_7 = split(tf)"
   ]
  },
  {
   "cell_type": "markdown",
   "metadata": {},
   "source": [
    "### Determining the Concentrations\n",
    "\n",
    "Taking values from Lee et. al. (2003) in nM. Designating a Cytoplasm percentage, and converting each component to a percentage of the cell"
   ]
  },
  {
   "cell_type": "code",
   "execution_count": 5,
   "metadata": {},
   "outputs": [],
   "source": [
    "Cytoplasm_Concentration = 0.875 \n",
    "GSK_Total = 4.83*10e-3           \n",
    "GSK_Concentration = GSK_Total \n",
    "UP_BCAT = 0.10\n",
    "CK1_Concentration = GSK_Concentration * 1.10"
   ]
  },
  {
   "cell_type": "markdown",
   "metadata": {},
   "source": [
    "#### Conversion to percentages"
   ]
  },
  {
   "cell_type": "code",
   "execution_count": 6,
   "metadata": {},
   "outputs": [],
   "source": [
    "Intial_Protein_Concentration = np.array([GSK_Concentration, UP_BCAT, CK1_Concentration])                                       \n",
    "Final_Sum = (sum(Intial_Protein_Concentration)*(Cytoplasm_Concentration )/(1-Cytoplasm_Concentration ))                          \n",
    "Concentrations = np.array([Intial_Protein_Concentration[0], Intial_Protein_Concentration[1], \n",
    "                           Intial_Protein_Concentration[2], Final_Sum ])\n",
    "Conc_Percentage = Concentrations/sum(Concentrations)\n",
    "\n",
    "Nuc_V_Control = 15.0 #Strength of the nucleator. \n",
    "\n",
    "Nucleator_Volume = Conc_Percentage[1] * Nuc_V_Control\n",
    "noise = Conc_Percentage*0.1 #Defining the noise of the system for initialization (when the homogenous field is created)"
   ]
  },
  {
   "cell_type": "markdown",
   "metadata": {},
   "source": [
    "#### Printing Pentages of each component\n",
    "The total concentraion MUST ALWAYS be ONE!"
   ]
  },
  {
   "cell_type": "code",
   "execution_count": 7,
   "metadata": {},
   "outputs": [
    {
     "name": "stdout",
     "output_type": "stream",
     "text": [
      "Inital Concentration: [ 0.0483   0.1      0.05313]\n",
      "Concentration with Cyto [ 0.02997319  0.0620563   0.03297051  0.875     ]\n",
      "Concentration plus Noise [ 0.02855155  0.05911294  0.03140671  0.83349838]\n",
      "Noise [ 0.00299732  0.00620563  0.00329705  0.0875    ]\n",
      "Total Concentration: 1.0\n"
     ]
    }
   ],
   "source": [
    "print('Inital Concentration:',Intial_Protein_Concentration)\n",
    "print('Concentration with Cyto', Conc_Percentage)\n",
    "print('Concentration plus Noise', Conc_Percentage + noise*(0.5 - random.random()))\n",
    "print('Noise', noise)\n",
    "print('Total Concentration:',sum(Conc_Percentage))"
   ]
  },
  {
   "cell_type": "markdown",
   "metadata": {},
   "source": [
    "### Defining the Initial Values"
   ]
  },
  {
   "cell_type": "code",
   "execution_count": 8,
   "metadata": {},
   "outputs": [],
   "source": [
    "class InitialConditions(UserExpression):\n",
    "    def __init__(self, **kwargs):\n",
    "        random.seed(42)\n",
    "        super().__init__(**kwargs)\n",
    "    #First half will be the initial concentrations of various molecules\n",
    "    #Have it set to have some sort of perturbation\n",
    "    #Second half is chemical potential mu\n",
    "    def eval(self, values, x):\n",
    "        #C1: GSK\n",
    "        values[0] = Conc_Percentage[0] + noise[0]*(0.5 - random.random())\n",
    "        #C2: CK 1\n",
    "        values[1] = Conc_Percentage[2] + noise[2]*(0.5 - random.random())\n",
    "        #C3: Unphosphorylated B-Cat\n",
    "        values[2] = Conc_Percentage[1] + noise[1]*(0.5 - random.random())\n",
    "        #C4: Ck-1 phosphorylated B-Cat\n",
    "        values[3] = 0.0\n",
    "        #C5: CK1 + GSK phosphorylated B-Cat\n",
    "        values[4] = 0.0\n",
    "        #C6: Cytoplasm\n",
    "        values[5] = Conc_Percentage[3] + noise[3]*(0.5 - random.random())\n",
    "        #C7: Centriole\n",
    "        values[6] = 0.0\n",
    "        \n",
    "        #Energy Values for each component.\n",
    "        values[7] = 0.0\n",
    "        values[8] = 0.0\n",
    "        values[9] = 0.0 \n",
    "        values[10] = 0.0\n",
    "        values[11] = 0.0\n",
    "        values[12] = 0.0\n",
    "        values[13] = 0.0\n",
    "        #Creating the Nucleator\n",
    "        if circle.inside(x, True):\n",
    "            values[6] = Nucleator_Volume\n",
    "    def value_shape(self):\n",
    "        return (14,)"
   ]
  },
  {
   "cell_type": "markdown",
   "metadata": {},
   "source": [
    "### Inserting Values Into Function Space"
   ]
  },
  {
   "cell_type": "code",
   "execution_count": 9,
   "metadata": {},
   "outputs": [],
   "source": [
    "# Create intial conditions and interpolate\n",
    "u_init = InitialConditions(degree=1)\n",
    "#Injecting the inital conditions into the vector function space\n",
    "u_new.interpolate(u_init)\n",
    "u_old.interpolate(u_init)"
   ]
  },
  {
   "cell_type": "markdown",
   "metadata": {},
   "source": [
    "### Creating the Free Energy Equation and Finding the Derivative to generate $\\mu$"
   ]
  },
  {
   "cell_type": "code",
   "execution_count": 10,
   "metadata": {},
   "outputs": [],
   "source": [
    "c1_new = variable(c1_new)\n",
    "c2_new = variable(c2_new)\n",
    "c3_new = variable(c3_new)\n",
    "c4_new = variable(c4_new)\n",
    "c5_new = variable(c5_new)\n",
    "c6_new = variable(c6_new)\n",
    "c7_new = variable(c7_new)\n",
    "\n",
    "def int_calc(chi_GSK_CK1, chi_GSK_UPBC, chi_GSK_PBC, chi_GSK_pPBC, chi_GSK_Cyto, chi_GSK_Nuc,\n",
    "             chi_CK1_UPBC, chi_CK1_PBC, chi_CK1_pPBC, chi_CK1_Cyto, chi_CK1_Nuc,\n",
    "             chi_UPBC_PBC, chi_UPBC_pPBC, chi_UPBC_Cyto, chi_UPBC_Nuc,\n",
    "             chi_PBC_pPBC, chi_PBC_Cyto, chi_PBC_Nuc,\n",
    "             chi_pPBC_Cyto, chi_pPBC_Nuc,\n",
    "             chi_Cyto_Nuc):\n",
    "    \n",
    "# Compute the chemical potential df/dc\n",
    "    f1 = chi_GSK_CK1*   (c1_new**2*c2_new**2)       \n",
    "    f2 = chi_GSK_UPBC*  (c1_new**2*c3_new**2)  \n",
    "    f3 = chi_GSK_PBC*   (c1_new**2*c4_new**2) \n",
    "    f4 = chi_GSK_pPBC*  (c1_new**2*c5_new**2) \n",
    "    f5 = chi_GSK_Cyto*  (c1_new**2*c6_new**2) \n",
    "    f6 = chi_GSK_Nuc*   (c1_new**2*c7_new**2)  \n",
    "\n",
    "    f7  = chi_CK1_UPBC*  (c2_new**2*c3_new**2)    \n",
    "    f8  = chi_CK1_PBC*   (c2_new**2*c4_new**2)     \n",
    "    f9  = chi_CK1_pPBC*  (c2_new**2*c5_new**2)     \n",
    "    f10 = chi_CK1_Cyto*  (c2_new**2*c6_new**2) \n",
    "    f11 = chi_CK1_Nuc*   (c2_new**2*c7_new**2) \n",
    "\n",
    "    f12 = chi_UPBC_PBC*  (c3_new**2*c4_new**2)    \n",
    "    f13 = chi_UPBC_pPBC* (c3_new**2*c5_new**2)   \n",
    "    f14 = chi_UPBC_Cyto* (c3_new**2*c6_new**2)     \n",
    "    f15 = chi_UPBC_Nuc*  (c3_new**2*c7_new**2) \n",
    "\n",
    "    f16 = chi_PBC_pPBC*  (c4_new**2*c5_new**2)\n",
    "    f17 = chi_PBC_Cyto*  (c4_new**2*c6_new**2)     \n",
    "    f18 = chi_PBC_Nuc*   (c4_new**2*c7_new**2) \n",
    "\n",
    "    f19 = chi_pPBC_Cyto* (c5_new**2*c6_new**2)   \n",
    "    f20 = chi_pPBC_Nuc*  (c5_new**2*c7_new**2) \n",
    "\n",
    "    f21 = chi_Cyto_Nuc*  (c6_new**2*c7_new**2) \n",
    "    \n",
    "    \n",
    "    ft  = (f1 + f2 + f3 + f4 + f5 + f6 + \n",
    "           f7 + f8 + f9 + f10 + f11 + \n",
    "           f12 + f13 + f14 + f15 +\n",
    "           f16 + f17 + f18 + \n",
    "           f19 + f20 + \n",
    "           f21) \n",
    "    \n",
    "    dfdc1p = diff(ft, c1_new)\n",
    "    dfdc2p = diff(ft, c2_new)\n",
    "    dfdc3p = diff(ft, c3_new)\n",
    "    dfdc4p = diff(ft, c4_new)\n",
    "    dfdc5p = diff(ft, c5_new)\n",
    "    dfdc6p = diff(ft, c6_new)\n",
    "    dfdc7p = diff(ft, c7_new)\n",
    "    return(dfdc1p, dfdc2p, dfdc3p, dfdc4p, dfdc5p, dfdc6p, dfdc7p)"
   ]
  },
  {
   "cell_type": "markdown",
   "metadata": {},
   "source": [
    "### Defining the Weak Form of the Cahn Hilliard"
   ]
  },
  {
   "cell_type": "code",
   "execution_count": 11,
   "metadata": {},
   "outputs": [],
   "source": [
    "def form_Res(dfdc1p, dfdc2p, dfdc3p, dfdc4p, dfdc5p, dfdc6p, dfdc7p, nucleator_diffusion):\n",
    "    lmbda  = 5.0e-6 \n",
    "    dt     = 5.0e-5 \n",
    "    theta  = 0.5\n",
    "    k_ck1_phosphorylation = 64\n",
    "    k_gsk_phosphorylation = 64\n",
    "    mu1_mid = (1.0-theta)*mu1_old + theta*mu1_new\n",
    "    mu2_mid = (1.0-theta)*mu2_old + theta*mu2_new\n",
    "    mu3_mid = (1.0-theta)*mu3_old + theta*mu3_new\n",
    "    mu4_mid = (1.0-theta)*mu4_old + theta*mu4_new\n",
    "    mu5_mid = (1.0-theta)*mu5_old + theta*mu5_new\n",
    "    mu6_mid = (1.0-theta)*mu6_old + theta*mu6_new\n",
    "    mu7_mid = (1.0-theta)*mu7_old + theta*mu7_new\n",
    "    \n",
    "#GSK\n",
    "    Res_1 = (c1_new - c1_old)/dt*q_1*dx + dot(grad(mu1_mid), grad(q_1) )*dx\n",
    "#CK\n",
    "    Res_2 = (c2_new - c2_old)/dt*q_2*dx + dot(grad(mu2_mid), grad(q_2) )*dx \n",
    "#UPBCA\n",
    "    Res_3 = (c3_new - c3_old)/dt*q_3*dx + dot(grad(mu3_mid), grad(q_3) )*dx +  k_ck1_phosphorylation*c2_new*c3_new*q_3*dx\n",
    "#CPBC\n",
    "    Res_4 = (c4_new - c4_old)/dt*q_4*dx + dot(grad(mu4_mid), grad(q_4) )*dx -  k_ck1_phosphorylation*c2_new*c3_new*q_4*dx + k_gsk_phosphorylation *c1_new*c4_new*q_4*dx \n",
    "#GCBC\n",
    "    Res_5 = (c5_new - c5_old)/dt*q_5*dx + dot(grad(mu5_mid), grad(q_5) )*dx -  k_gsk_phosphorylation *c1_new*c4_new*q_5*dx\n",
    "#Cyto\n",
    "    Res_6 = (c6_new - c6_old)/dt*q_6*dx + dot(grad(mu6_mid), grad(q_6) )*dx\n",
    "#Centriole\n",
    "    Res_7 = (c7_new - c7_old)/dt*q_7*dx + nucleator_diffusion* 0.001* dot(grad(mu7_mid), grad(q_7) )*dx\n",
    "#Energy\n",
    "    Res_8 = mu1_new*v_1*dx - (dfdc1p*v_1*dx) - lmbda*(dot(grad(c1_new), grad(v_1)) + dot(grad(c2_new), grad(v_2)) + \n",
    "                                                      dot(grad(c3_new), grad(v_3)) + dot(grad(c4_new), grad(v_4)) + \n",
    "                                                      dot(grad(c5_new), grad(v_5)) + dot(grad(c6_new), grad(v_6))+ \n",
    "                                                      dot(grad(c7_new), grad(v_7)))*dx\n",
    "    Res_9 = mu2_new*v_2*dx - (dfdc2p*v_2*dx) - lmbda*(dot(grad(c1_new), grad(v_1)) + dot(grad(c2_new), grad(v_2)) + \n",
    "                                                      dot(grad(c3_new), grad(v_3)) + dot(grad(c4_new), grad(v_4)) + \n",
    "                                                      dot(grad(c5_new), grad(v_5)) + dot(grad(c6_new), grad(v_6))+ \n",
    "                                                      dot(grad(c7_new), grad(v_7)))*dx\n",
    "    Res_10 = mu3_new*v_3*dx - (dfdc3p*v_3*dx) - lmbda*(dot(grad(c1_new), grad(v_1)) + dot(grad(c2_new), grad(v_2)) + \n",
    "                                                       dot(grad(c3_new), grad(v_3)) + dot(grad(c4_new), grad(v_4)) + \n",
    "                                                       dot(grad(c5_new), grad(v_5)) + dot(grad(c6_new), grad(v_6))+ \n",
    "                                                       dot(grad(c7_new), grad(v_7)))*dx\n",
    "    Res_11 = mu4_new*v_4*dx - (dfdc4p*v_4*dx) - lmbda*(dot(grad(c1_new), grad(v_1)) + dot(grad(c2_new), grad(v_2)) + \n",
    "                                                       dot(grad(c3_new), grad(v_3)) + dot(grad(c4_new), grad(v_4)) + \n",
    "                                                       dot(grad(c5_new), grad(v_5)) + dot(grad(c6_new), grad(v_6))+ \n",
    "                                                       dot(grad(c7_new), grad(v_7)))*dx\n",
    "    Res_12 = mu5_new*v_5*dx - (dfdc5p*v_5*dx) - lmbda*(dot(grad(c1_new), grad(v_1)) + dot(grad(c2_new), grad(v_2)) + \n",
    "                                                       dot(grad(c3_new), grad(v_3)) + dot(grad(c4_new), grad(v_4)) + \n",
    "                                                       dot(grad(c5_new), grad(v_5)) + dot(grad(c6_new), grad(v_6))+ \n",
    "                                                       dot(grad(c7_new), grad(v_7)))*dx\n",
    "    Res_13 = mu6_new*v_6*dx - (dfdc6p*v_6*dx) - lmbda*(dot(grad(c1_new), grad(v_1)) + dot(grad(c2_new), grad(v_2)) + \n",
    "                                                       dot(grad(c3_new), grad(v_3)) + dot(grad(c4_new), grad(v_4)) + \n",
    "                                                       dot(grad(c5_new), grad(v_5)) + dot(grad(c6_new), grad(v_6))+ \n",
    "                                                       dot(grad(c7_new), grad(v_7)))*dx\n",
    "    Res_14 = mu7_new*v_7*dx - (dfdc7p*v_7*dx) - lmbda*(dot(grad(c1_new), grad(v_1)) + dot(grad(c2_new), grad(v_2)) + \n",
    "                                                       dot(grad(c3_new), grad(v_3)) + dot(grad(c4_new), grad(v_4)) + \n",
    "                                                       dot(grad(c5_new), grad(v_5)) + dot(grad(c6_new), grad(v_6))+ \n",
    "                                                       dot(grad(c7_new), grad(v_7)))*dx\n",
    "    \n",
    "    ResT =  Res_1 + Res_2  + Res_3 + Res_4 + Res_5 + Res_6 + Res_7 + Res_8 + Res_9 + Res_10 + Res_11 + Res_12 + Res_13 + Res_14\n",
    "    \n",
    "    return (ResT)\n"
   ]
  },
  {
   "cell_type": "markdown",
   "metadata": {},
   "source": [
    "### Location of Output Files"
   ]
  },
  {
   "cell_type": "code",
   "execution_count": 12,
   "metadata": {},
   "outputs": [],
   "source": [
    "#Output files for concentration and chemical potential\n",
    "#Change to desired file output path\n",
    "output_file_path = \"Results/Test Run/\"\n",
    "fileC1 = File(output_file_path+\"(5)1.pvd\", \"compressed\")\n",
    "fileC2 = File(output_file_path+\"(5)2.pvd\", \"compressed\")\n",
    "fileC3 = File(output_file_path+\"(5)3.pvd\", \"compressed\")\n",
    "fileC4 = File(output_file_path+\"(5)4.pvd\", \"compressed\")\n",
    "fileC5 = File(output_file_path+\"(5)5.pvd\", \"compressed\")\n",
    "fileC6 = File(output_file_path+\"(5)6.pvd\", \"compressed\")\n",
    "fileC7 = File(output_file_path+\"(5)7.pvd\", \"compressed\")\n",
    "fileM1 = File(output_file_path+\"chem_potential1.pvd\", \"compressed\")\n",
    "fileM2 = File(output_file_path+\"chem_potential2.pvd\", \"compressed\")\n",
    "fileM3 = File(output_file_path+\"chem_potential3.pvd\", \"compressed\")\n",
    "fileM4 = File(output_file_path+\"chem_potential4.pvd\", \"compressed\")\n",
    "fileM5 = File(output_file_path+\"chem_potential5.pvd\", \"compressed\")\n",
    "fileM6 = File(output_file_path+\"chem_potential6.pvd\", \"compressed\")\n",
    "fileM7 = File(output_file_path+\"chem_potential7.pvd\", \"compressed\")"
   ]
  },
  {
   "cell_type": "markdown",
   "metadata": {},
   "source": [
    "### Defining the Chi Correlation Values that dictate component behavior"
   ]
  },
  {
   "cell_type": "code",
   "execution_count": 13,
   "metadata": {},
   "outputs": [],
   "source": [
    "#Modify binding, neutral, and separating weights to see varying effects\n",
    "binding = -0.1\n",
    "neutral = 0\n",
    "separating = 2"
   ]
  },
  {
   "cell_type": "markdown",
   "metadata": {},
   "source": [
    "### Setting Behaviors for each interaction"
   ]
  },
  {
   "cell_type": "code",
   "execution_count": 14,
   "metadata": {},
   "outputs": [],
   "source": [
    "nsteps = 50 #Number of steps to run simulation. NOTE: There is an upper limit for number steps\n",
    "\n",
    "chi_GSK_CK1   = neutral      \n",
    "chi_GSK_UPBC  = neutral    \n",
    "chi_GSK_PBC   = neutral     \n",
    "chi_GSK_pPBC  = neutral\n",
    "chi_GSK_Cyto  = separating\n",
    "chi_GSK_Nuc   = binding\n",
    "\n",
    "chi_CK1_UPBC  = neutral     \n",
    "chi_CK1_PBC   = neutral\n",
    "chi_CK1_pPBC  = neutral\n",
    "chi_CK1_Cyto  = separating\n",
    "chi_CK1_Nuc   = binding\n",
    "\n",
    "chi_UPBC_PBC  = neutral  \n",
    "chi_UPBC_pPBC = neutral  \n",
    "chi_UPBC_Cyto = separating\n",
    "chi_UPBC_Nuc  = binding\n",
    "\n",
    "chi_PBC_pPBC  = neutral\n",
    "chi_PBC_Cyto  = separating    \n",
    "chi_PBC_Nuc   = binding\n",
    "\n",
    "chi_pPBC_Cyto = neutral\n",
    "chi_pPBC_Nuc  = neutral\n",
    "\n",
    "chi_Cyto_Nuc  = separating\n",
    "\n",
    "nucleator_diffusion = 1\n",
    "\n"
   ]
  },
  {
   "cell_type": "markdown",
   "metadata": {},
   "source": [
    "### Calling the Newtown solver for predefined number of steps and generating the Data"
   ]
  },
  {
   "cell_type": "code",
   "execution_count": null,
   "metadata": {},
   "outputs": [
    {
     "name": "stdout",
     "output_type": "stream",
     "text": [
      "48\n"
     ]
    }
   ],
   "source": [
    "dfdc1p, dfdc2p, dfdc3p, dfdc4p, dfdc5p, dfdc6p, dfdc7p = int_calc(chi_GSK_CK1, chi_GSK_UPBC, chi_GSK_PBC, chi_GSK_pPBC, chi_GSK_Cyto, chi_GSK_Nuc,\n",
    "             chi_CK1_UPBC, chi_CK1_PBC, chi_CK1_pPBC, chi_CK1_Cyto, chi_CK1_Nuc,\n",
    "             chi_UPBC_PBC, chi_UPBC_pPBC, chi_UPBC_Cyto, chi_UPBC_Nuc,\n",
    "             chi_PBC_pPBC, chi_PBC_Cyto, chi_PBC_Nuc,\n",
    "             chi_pPBC_Cyto, chi_pPBC_Nuc,\n",
    "             chi_Cyto_Nuc)\n",
    "\n",
    "ResT = form_Res(dfdc1p, dfdc2p, dfdc3p, dfdc4p, dfdc5p, dfdc6p, dfdc7p, nucleator_diffusion)\n",
    "try:\n",
    "    for i in range(nsteps):\n",
    "        dfdc1p, dfdc2p, dfdc3p, dfdc4p, dfdc5p, dfdc6p, dfdc7p = int_calc(chi_GSK_CK1, chi_GSK_UPBC, chi_GSK_PBC, chi_GSK_pPBC, chi_GSK_Cyto, chi_GSK_Nuc,\n",
    "             chi_CK1_UPBC, chi_CK1_PBC, chi_CK1_pPBC, chi_CK1_Cyto, chi_CK1_Nuc,\n",
    "             chi_UPBC_PBC, chi_UPBC_pPBC, chi_UPBC_Cyto, chi_UPBC_Nuc,\n",
    "             chi_PBC_pPBC, chi_PBC_Cyto, chi_PBC_Nuc,\n",
    "             chi_pPBC_Cyto, chi_pPBC_Nuc,\n",
    "             chi_Cyto_Nuc)\n",
    "        ResT = form_Res(dfdc1p, dfdc2p, dfdc3p, dfdc4p, dfdc5p, dfdc6p, dfdc7p, nucleator_diffusion)\n",
    "        clear_output(wait = True)\n",
    "        print(i)\n",
    "        u_old.vector()[:] = u_new.vector()\n",
    "        solve(ResT == 0, u_new)\n",
    "        valuesf = u_new.vector()\n",
    "        fileC1 << (u_new.split()[0], i)\n",
    "        fileC2 << (u_new.split()[1], i)\n",
    "        fileC3 << (u_new.split()[2], i)\n",
    "        fileC4 << (u_new.split()[3], i)\n",
    "        fileC5 << (u_new.split()[4], i)\n",
    "        fileC6 << (u_new.split()[5], i)\n",
    "        fileC7 << (u_new.split()[6], i)\n",
    "        \n",
    "        fileM1 << (u_new.split()[7], i)\n",
    "        fileM2 << (u_new.split()[8], i)\n",
    "        fileM3 << (u_new.split()[9], i)\n",
    "        fileM4 << (u_new.split()[10], i)\n",
    "        fileM5 << (u_new.split()[11], i)\n",
    "        fileM6 << (u_new.split()[12], i)\n",
    "        fileM7 << (u_new.split()[13], i)\n",
    "\n",
    "# Simple error trapping loop that will play sound upon error or program completion        \n",
    "except Exception as e:\n",
    "    print(e)\n",
    "    t = np.linspace(0, play_time_seconds, framerate*play_time_seconds)\n",
    "    audio_data = np.sin(2*np.pi*300*t) + np.sin(2*np.pi*240*t)\n",
    "    Audio(audio_data, rate=framerate, autoplay=True)\n",
    "    print(\"Convergence Error\")\n"
   ]
  },
  {
   "cell_type": "markdown",
   "metadata": {},
   "source": [
    "For addition questions, email c_qiu@ucsb.edu"
   ]
  }
 ],
 "metadata": {
  "kernelspec": {
   "display_name": "Python 3",
   "language": "python",
   "name": "python3"
  },
  "language_info": {
   "codemirror_mode": {
    "name": "ipython",
    "version": 3
   },
   "file_extension": ".py",
   "mimetype": "text/x-python",
   "name": "python",
   "nbconvert_exporter": "python",
   "pygments_lexer": "ipython3",
   "version": "3.6.9"
  }
 },
 "nbformat": 4,
 "nbformat_minor": 4
}
